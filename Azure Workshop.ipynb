{
 "cells": [
  {
   "cell_type": "markdown",
   "metadata": {},
   "source": [
    "# Microsoft Azure Workshop \n",
    "MLH uAlberta  \n",
    "December 2, 2017  \n",
    "Cole Mackenzie <cdmacken@ualberta.ca>  \n",
    "https://github.com/ThatCoalGuy"
   ]
  },
  {
   "cell_type": "markdown",
   "metadata": {},
   "source": [
    "## 1. Setup a Microsoft Azure Account\n",
    "After the account is created, navigate to the Azure Console \n",
    "\n",
    "https://portal.azure.com/"
   ]
  },
  {
   "cell_type": "markdown",
   "metadata": {},
   "source": [
    "## 2. Creating an Instance\n",
    "\n",
    "https://docs.microsoft.com/en-us/azure/virtual-machines/linux/quick-create-portal?toc=%2Fazure%2Fvirtual-machines%2Flinux%2Ftoc.json\n",
    "\n",
    "After completeing the above tutorial, you now have your own personal server in the cloud."
   ]
  },
  {
   "cell_type": "markdown",
   "metadata": {},
   "source": [
    "## 3. Create a Cosmos Server (NoSQL)\n",
    "https://docs.microsoft.com/en-us/azure/sql-database/sql-database-get-started-portal"
   ]
  },
  {
   "cell_type": "code",
   "execution_count": 11,
   "metadata": {},
   "outputs": [],
   "source": [
    "import pydocumentdb;\n",
    "import pydocumentdb.document_client as document_client\n",
    "\n",
    "config = { \n",
    "    'ENDPOINT': 'https://someuniquename.documents.azure.com:443/',\n",
    "    'MASTERKEY': open(\"azure_cosmos_key\", \"r\").read(),\n",
    "    'DOCUMENTDB_DATABASE': 'db',\n",
    "    'DOCUMENTDB_COLLECTION': 'coll'\n",
    "};\n",
    "# Create collection options\n",
    "options = {\n",
    "    'offerEnableRUPerMinuteThroughput': True,\n",
    "    'offerVersion': \"V2\",\n",
    "    'offerThroughput': 400\n",
    "}"
   ]
  },
  {
   "cell_type": "code",
   "execution_count": 12,
   "metadata": {},
   "outputs": [],
   "source": [
    "# Initialize the Python DocumentDB client\n",
    "try:\n",
    "    client = document_client.DocumentClient(config['ENDPOINT'], {'masterKey': config['MASTERKEY']})\n",
    "    # Create a database\n",
    "    db = client.CreateDatabase({ 'id': config['DOCUMENTDB_DATABASE'] })\n",
    "    # # Create a collection\n",
    "    collection = client.CreateCollection(db['_self'], { 'id': config['DOCUMENTDB_COLLECTION'] }, options)\n",
    "except:\n",
    "    pass"
   ]
  },
  {
   "cell_type": "code",
   "execution_count": 13,
   "metadata": {},
   "outputs": [],
   "source": [
    "# Create some documents\n",
    "document1 = client.CreateDocument(collection['_self'],\n",
    "    { \n",
    "        'Web Site': 0,\n",
    "        'Cloud Service': 0,\n",
    "        'Virtual Machine': 0,\n",
    "        'name': 'some' \n",
    "    })\n",
    "\n",
    "document2 = client.CreateDocument(collection['_self'],\n",
    "    { \n",
    "        'Web Site': 1,\n",
    "        'Cloud Service': 0,\n",
    "        'Virtual Machine': 0,\n",
    "        'name': 'some' \n",
    "    })"
   ]
  },
  {
   "cell_type": "code",
   "execution_count": 14,
   "metadata": {},
   "outputs": [
    {
     "name": "stdout",
     "output_type": "stream",
     "text": [
      "[{'Cloud Service': 0,\n",
      "  'Virtual Machine': 0,\n",
      "  'Web Site': 0,\n",
      "  '_attachments': 'attachments/',\n",
      "  '_etag': '\"0000bbca-0000-0000-0000-5a23063f0000\"',\n",
      "  '_rid': 'BldJAKW3CAABAAAAAAAAAA==',\n",
      "  '_self': 'dbs/BldJAA==/colls/BldJAKW3CAA=/docs/BldJAKW3CAABAAAAAAAAAA==/',\n",
      "  '_ts': 1512244799,\n",
      "  'id': 'cfa6482d-3eb1-4aec-81ef-a2b772dfcfa0',\n",
      "  'name': 'some'},\n",
      " {'Cloud Service': 0,\n",
      "  'Virtual Machine': 0,\n",
      "  'Web Site': 1,\n",
      "  '_attachments': 'attachments/',\n",
      "  '_etag': '\"0000bcca-0000-0000-0000-5a23063f0000\"',\n",
      "  '_rid': 'BldJAKW3CAACAAAAAAAAAA==',\n",
      "  '_self': 'dbs/BldJAA==/colls/BldJAKW3CAA=/docs/BldJAKW3CAACAAAAAAAAAA==/',\n",
      "  '_ts': 1512244799,\n",
      "  'id': '3f64b448-194d-45c8-bc9b-d528d0a57d27',\n",
      "  'name': 'some'},\n",
      " {'Cloud Service': 0,\n",
      "  'Virtual Machine': 0,\n",
      "  'Web Site': 0,\n",
      "  '_attachments': 'attachments/',\n",
      "  '_etag': '\"0000bbcd-0000-0000-0000-5a230a200000\"',\n",
      "  '_rid': 'BldJAKW3CAADAAAAAAAAAA==',\n",
      "  '_self': 'dbs/BldJAA==/colls/BldJAKW3CAA=/docs/BldJAKW3CAADAAAAAAAAAA==/',\n",
      "  '_ts': 1512245792,\n",
      "  'id': 'dfa0c825-b087-4207-8259-2f813e47208d',\n",
      "  'name': 'some'},\n",
      " {'Cloud Service': 0,\n",
      "  'Virtual Machine': 0,\n",
      "  'Web Site': 1,\n",
      "  '_attachments': 'attachments/',\n",
      "  '_etag': '\"0000bccd-0000-0000-0000-5a230a200000\"',\n",
      "  '_rid': 'BldJAKW3CAAEAAAAAAAAAA==',\n",
      "  '_self': 'dbs/BldJAA==/colls/BldJAKW3CAA=/docs/BldJAKW3CAAEAAAAAAAAAA==/',\n",
      "  '_ts': 1512245792,\n",
      "  'id': 'b5b5aaaf-d4df-474e-a71b-2e32d2f0f130',\n",
      "  'name': 'some'}]\n"
     ]
    }
   ],
   "source": [
    "# Query them in SQL\n",
    "query = { 'query': 'SELECT * FROM server s' }    \n",
    "        \n",
    "options = {} \n",
    "options['enableCrossPartitionQuery'] = True\n",
    "options['maxItemCount'] = 2\n",
    "\n",
    "result_iterable = client.QueryDocuments(collection['_self'], query, options)\n",
    "results = list(result_iterable);\n",
    "\n",
    "from pprint import pprint\n",
    "pprint(results)"
   ]
  },
  {
   "cell_type": "markdown",
   "metadata": {},
   "source": [
    "## 4. Storage Storage\n",
    "Unfortunately there is no Azure documentation for using the Console.\n",
    "\n",
    "SDK Python docs: https://azure-storage.readthedocs.io/en/latest/\n",
    "\n",
    "#### Choose new storage option\n",
    "![Image](./to_storage.gif)\n",
    "\n",
    "#### Fill in the required boxes\n",
    "\n",
    "![Image](./storage_config.png)"
   ]
  },
  {
   "cell_type": "code",
   "execution_count": 15,
   "metadata": {},
   "outputs": [
    {
     "name": "stdout",
     "output_type": "stream",
     "text": [
      "Upload complete.\n"
     ]
    }
   ],
   "source": [
    "from azure.storage.blob import ContentSettings\n",
    "from azure.storage.blob import BlockBlobService\n",
    "from uuid import uuid4\n",
    "\n",
    "block_blob_service = BlockBlobService(account_name='mlhdedmazure', \n",
    "                                      account_key=open('azure_storage_key', 'r').read())\n",
    "\n",
    "block_blob_service.create_blob_from_path(\n",
    "    'edm',\n",
    "    str(uuid4()),\n",
    "    'to_storage.gif',\n",
    "    content_settings=ContentSettings(content_type='image/gif')\n",
    "            )\n",
    "print(\"Upload complete.\")"
   ]
  },
  {
   "cell_type": "code",
   "execution_count": null,
   "metadata": {},
   "outputs": [],
   "source": []
  }
 ],
 "metadata": {
  "kernelspec": {
   "display_name": "Python 3",
   "language": "python",
   "name": "python3"
  },
  "language_info": {
   "codemirror_mode": {
    "name": "ipython",
    "version": 3
   },
   "file_extension": ".py",
   "mimetype": "text/x-python",
   "name": "python",
   "nbconvert_exporter": "python",
   "pygments_lexer": "ipython3",
   "version": "3.6.3"
  }
 },
 "nbformat": 4,
 "nbformat_minor": 2
}
